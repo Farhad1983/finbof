{
 "cells": [
  {
   "cell_type": "code",
   "execution_count": 1,
   "id": "57f5ab23-cc7d-40f5-8ba0-a23d436599aa",
   "metadata": {},
   "outputs": [
    {
     "name": "stdout",
     "output_type": "stream",
     "text": [
      "device:  cuda\n"
     ]
    }
   ],
   "source": [
    "import run_exps as exps\n",
    "import print_results as p\n",
    "from models.nn_models import  GRU_NN, LSTM_NN, CNN_NN, ML_LSTM_NN  "
   ]
  },
  {
   "cell_type": "code",
   "execution_count": 2,
   "id": "17d82273-c203-477a-a6c5-db58b470474c",
   "metadata": {},
   "outputs": [
    {
     "name": "stdout",
     "output_type": "stream",
     "text": [
      "Evaluating for split:  0\n",
      "Epoch  0 loss:  1.4388882e-05\n",
      "Epoch  1 loss:  1.3202461e-05\n",
      "Epoch  2 loss:  9.793056e-06\n",
      "Epoch  3 loss:  8.278324e-06\n",
      "Epoch  4 loss:  6.971718e-06\n",
      "Epoch  5 loss:  5.75305e-06\n",
      "Epoch  6 loss:  3.9235715e-06\n",
      "Epoch  7 loss:  4.731196e-06\n",
      "Epoch  8 loss:  3.8022902e-06\n",
      "Epoch  9 loss:  4.597824e-06\n"
     ]
    },
    {
     "name": "stderr",
     "output_type": "stream",
     "text": [
      "  0%|                                                                                          | 0/349 [00:00<?, ?it/s]H:\\Github\\finbof\\lob_utils\\lob_model_utils.py:54: UserWarning: volatile was removed and now has no effect. Use `with torch.no_grad():` instead.\n",
      "  inputs, targets = Variable(inputs, volatile=True), Variable(targets)\n",
      "100%|████████████████████████████████████████████████████████████████████████████████| 349/349 [00:04<00:00, 70.90it/s]\n"
     ]
    },
    {
     "name": "stdout",
     "output_type": "stream",
     "text": [
      "{'accuracy': 0.766960263564849, 'precision': array([0.19157428, 0.91629319, 0.21709578]), 'recall': array([0.34258525, 0.81885472, 0.39803625]), 'f1': array([0.24573379, 0.86483809, 0.28095428]), 'precision_avg': 0.44165441450561066, 'recall_avg': 0.5198254091329363, 'f1_avg': 0.4638420551756499, 'kappa': 0.19438003991231967}\n",
      "Evaluating for split:  1\n",
      "Epoch  0 loss:  9.459146e-06\n",
      "Epoch  1 loss:  4.1544413e-06\n",
      "Epoch  2 loss:  4.1562553e-06\n",
      "Epoch  3 loss:  2.682568e-06\n",
      "Epoch  4 loss:  3.219404e-06\n",
      "Epoch  5 loss:  2.2337522e-06\n",
      "Epoch  6 loss:  1.9677543e-06\n",
      "Epoch  7 loss:  1.0544065e-06\n",
      "Epoch  8 loss:  3.7464388e-06\n",
      "Epoch  9 loss:  1.8363347e-06\n"
     ]
    },
    {
     "name": "stderr",
     "output_type": "stream",
     "text": [
      "  0%|                                                                                          | 0/260 [00:00<?, ?it/s]H:\\Github\\finbof\\lob_utils\\lob_model_utils.py:54: UserWarning: volatile was removed and now has no effect. Use `with torch.no_grad():` instead.\n",
      "  inputs, targets = Variable(inputs, volatile=True), Variable(targets)\n",
      "100%|████████████████████████████████████████████████████████████████████████████████| 260/260 [00:04<00:00, 55.26it/s]\n"
     ]
    },
    {
     "name": "stdout",
     "output_type": "stream",
     "text": [
      "{'accuracy': 0.777155756207675, 'precision': array([0.16595615, 0.94477606, 0.18696527]), 'recall': array([0.41730475, 0.80833608, 0.47355003]), 'f1': array([0.23747277, 0.87124669, 0.26808587]), 'precision_avg': 0.43256582908097063, 'recall_avg': 0.5663969527549743, 'f1_avg': 0.45893511126268005, 'kappa': 0.19418416124984283}\n",
      "Evaluating for split:  2\n",
      "Epoch  0 loss:  4.0437294e-06\n",
      "Epoch  1 loss:  4.5397223e-06\n",
      "Epoch  2 loss:  3.1412724e-06\n",
      "Epoch  3 loss:  2.5740696e-06\n",
      "Epoch  4 loss:  2.7524075e-06\n",
      "Epoch  5 loss:  2.336846e-06\n",
      "Epoch  6 loss:  1.7203174e-06\n",
      "Epoch  7 loss:  2.2956715e-06\n",
      "Epoch  8 loss:  2.4241203e-06\n",
      "Epoch  9 loss:  1.4848982e-06\n"
     ]
    },
    {
     "name": "stderr",
     "output_type": "stream",
     "text": [
      "  0%|                                                                                          | 0/335 [00:00<?, ?it/s]H:\\Github\\finbof\\lob_utils\\lob_model_utils.py:54: UserWarning: volatile was removed and now has no effect. Use `with torch.no_grad():` instead.\n",
      "  inputs, targets = Variable(inputs, volatile=True), Variable(targets)\n",
      "100%|████████████████████████████████████████████████████████████████████████████████| 335/335 [00:05<00:00, 66.81it/s]\n"
     ]
    },
    {
     "name": "stdout",
     "output_type": "stream",
     "text": [
      "{'accuracy': 0.7468952452230044, 'precision': array([0.2363365 , 0.89863939, 0.2520361 ]), 'recall': array([0.43719807, 0.80796388, 0.34498343]), 'f1': array([0.30681681, 0.85089274, 0.29127448]), 'precision_avg': 0.4623373325133054, 'recall_avg': 0.5300484571939007, 'f1_avg': 0.4829946773717982, 'kappa': 0.22505815184110967}\n",
      "Evaluating for split:  3\n",
      "Epoch  0 loss:  4.7067374e-06\n",
      "Epoch  1 loss:  1.8366985e-06\n",
      "Epoch  2 loss:  4.963598e-06\n",
      "Epoch  3 loss:  2.2410238e-06\n",
      "Epoch  4 loss:  2.9060905e-06\n",
      "Epoch  5 loss:  4.3972304e-07\n",
      "Epoch  6 loss:  1.2698061e-06\n",
      "Epoch  7 loss:  7.078628e-07\n",
      "Epoch  8 loss:  2.744757e-07\n",
      "Epoch  9 loss:  2.5767912e-07\n"
     ]
    },
    {
     "name": "stderr",
     "output_type": "stream",
     "text": [
      "  0%|                                                                                          | 0/318 [00:00<?, ?it/s]H:\\Github\\finbof\\lob_utils\\lob_model_utils.py:54: UserWarning: volatile was removed and now has no effect. Use `with torch.no_grad():` instead.\n",
      "  inputs, targets = Variable(inputs, volatile=True), Variable(targets)\n",
      "100%|████████████████████████████████████████████████████████████████████████████████| 318/318 [00:04<00:00, 68.84it/s]\n"
     ]
    },
    {
     "name": "stdout",
     "output_type": "stream",
     "text": [
      "{'accuracy': 0.7662011997246534, 'precision': array([0.26199741, 0.92724338, 0.24482109]), 'recall': array([0.4222408 , 0.80431191, 0.55663682]), 'f1': array([0.32335521, 0.8614139 , 0.34007134]), 'precision_avg': 0.47802062702420917, 'recall_avg': 0.5943965133680355, 'f1_avg': 0.5082801510774839, 'kappa': 0.26157930560121634}\n",
      "Evaluating for split:  4\n",
      "Epoch  0 loss:  2.7989236e-06\n",
      "Epoch  1 loss:  2.1608696e-06\n",
      "Epoch  2 loss:  1.1166713e-06\n",
      "Epoch  3 loss:  1.7895331e-06\n",
      "Epoch  4 loss:  9.98642e-07\n",
      "Epoch  5 loss:  1.3732797e-06\n",
      "Epoch  6 loss:  1.1562942e-06\n",
      "Epoch  7 loss:  5.7753294e-07\n",
      "Epoch  8 loss:  6.276163e-07\n",
      "Epoch  9 loss:  7.0683353e-07\n"
     ]
    },
    {
     "name": "stderr",
     "output_type": "stream",
     "text": [
      "  0%|                                                                                          | 0/366 [00:00<?, ?it/s]H:\\Github\\finbof\\lob_utils\\lob_model_utils.py:54: UserWarning: volatile was removed and now has no effect. Use `with torch.no_grad():` instead.\n",
      "  inputs, targets = Variable(inputs, volatile=True), Variable(targets)\n",
      "100%|████████████████████████████████████████████████████████████████████████████████| 366/366 [00:04<00:00, 76.59it/s]\n"
     ]
    },
    {
     "name": "stdout",
     "output_type": "stream",
     "text": [
      "{'accuracy': 0.7790966251764404, 'precision': array([0.25494192, 0.9342098 , 0.23985828]), 'recall': array([0.48245276, 0.81741946, 0.48600144]), 'f1': array([0.3336    , 0.87192112, 0.32119559]), 'precision_avg': 0.47633666695082705, 'recall_avg': 0.5952912190511087, 'f1_avg': 0.5089055688283246, 'kappa': 0.2678952839709122}\n",
      "Evaluating for split:  5\n",
      "Epoch  0 loss:  2.1915052e-06\n",
      "Epoch  1 loss:  2.484195e-06\n",
      "Epoch  2 loss:  1.0922905e-06\n",
      "Epoch  3 loss:  1.3376964e-06\n",
      "Epoch  4 loss:  9.475006e-07\n",
      "Epoch  5 loss:  8.9163206e-07\n",
      "Epoch  6 loss:  5.7276213e-07\n",
      "Epoch  7 loss:  1.0024867e-06\n",
      "Epoch  8 loss:  8.4309374e-07\n",
      "Epoch  9 loss:  7.542531e-07\n"
     ]
    },
    {
     "name": "stderr",
     "output_type": "stream",
     "text": [
      "  0%|                                                                                          | 0/349 [00:00<?, ?it/s]H:\\Github\\finbof\\lob_utils\\lob_model_utils.py:54: UserWarning: volatile was removed and now has no effect. Use `with torch.no_grad():` instead.\n",
      "  inputs, targets = Variable(inputs, volatile=True), Variable(targets)\n",
      "100%|████████████████████████████████████████████████████████████████████████████████| 349/349 [00:04<00:00, 76.00it/s]\n"
     ]
    },
    {
     "name": "stdout",
     "output_type": "stream",
     "text": [
      "{'accuracy': 0.7779795534032822, 'precision': array([0.2392638 , 0.9344982 , 0.26100038]), 'recall': array([0.46044864, 0.81337618, 0.5453831 ]), 'f1': array([0.31489705, 0.86974051, 0.35304591]), 'precision_avg': 0.4782541257423456, 'recall_avg': 0.6064026431325913, 'f1_avg': 0.5125611577856118, 'kappa': 0.26904448504206935}\n",
      "Evaluating for split:  6\n",
      "Epoch  0 loss:  1.9048633e-06\n",
      "Epoch  1 loss:  1.7666763e-06\n",
      "Epoch  2 loss:  1.763098e-06\n",
      "Epoch  3 loss:  1.1749715e-06\n",
      "Epoch  4 loss:  1.179043e-06\n",
      "Epoch  5 loss:  7.595752e-07\n",
      "Epoch  6 loss:  7.961261e-07\n",
      "Epoch  7 loss:  7.3224385e-07\n",
      "Epoch  8 loss:  8.845587e-07\n",
      "Epoch  9 loss:  5.479526e-07\n"
     ]
    },
    {
     "name": "stderr",
     "output_type": "stream",
     "text": [
      "  0%|                                                                                          | 0/465 [00:00<?, ?it/s]H:\\Github\\finbof\\lob_utils\\lob_model_utils.py:54: UserWarning: volatile was removed and now has no effect. Use `with torch.no_grad():` instead.\n",
      "  inputs, targets = Variable(inputs, volatile=True), Variable(targets)\n",
      "100%|████████████████████████████████████████████████████████████████████████████████| 465/465 [00:05<00:00, 82.86it/s]\n"
     ]
    },
    {
     "name": "stdout",
     "output_type": "stream",
     "text": [
      "{'accuracy': 0.842143313494065, 'precision': array([0.25738674, 0.95956495, 0.21572104]), 'recall': array([0.48216482, 0.87038352, 0.52142857]), 'f1': array([0.33561644, 0.91280113, 0.30518395]), 'precision_avg': 0.4775575746052403, 'recall_avg': 0.6246589697800934, 'f1_avg': 0.5178671716391263, 'kappa': 0.28226188739164304}\n",
      "Evaluating for split:  7\n",
      "Epoch  0 loss:  1.4386624e-06\n",
      "Epoch  1 loss:  1.0050027e-06\n",
      "Epoch  2 loss:  1.0230527e-06\n",
      "Epoch  3 loss:  7.2501047e-07\n",
      "Epoch  4 loss:  7.706896e-07\n",
      "Epoch  5 loss:  5.032804e-07\n",
      "Epoch  6 loss:  7.9973273e-07\n",
      "Epoch  7 loss:  6.8966784e-07\n",
      "Epoch  8 loss:  6.0321497e-07\n",
      "Epoch  9 loss:  5.243429e-07\n"
     ]
    },
    {
     "name": "stderr",
     "output_type": "stream",
     "text": [
      "  0%|                                                                                          | 0/449 [00:00<?, ?it/s]H:\\Github\\finbof\\lob_utils\\lob_model_utils.py:54: UserWarning: volatile was removed and now has no effect. Use `with torch.no_grad():` instead.\n",
      "  inputs, targets = Variable(inputs, volatile=True), Variable(targets)\n",
      "100%|████████████████████████████████████████████████████████████████████████████████| 449/449 [00:05<00:00, 84.76it/s]\n"
     ]
    },
    {
     "name": "stdout",
     "output_type": "stream",
     "text": [
      "{'accuracy': 0.8093671679197995, 'precision': array([0.21316842, 0.95178725, 0.20478434]), 'recall': array([0.5058265 , 0.83944545, 0.45491143]), 'f1': array([0.29993602, 0.89209345, 0.28242939]), 'precision_avg': 0.4565800064677923, 'recall_avg': 0.6000611265775636, 'f1_avg': 0.4914862862695735, 'kappa': 0.24128402489019685}\n",
      "Evaluating for split:  8\n",
      "Epoch  0 loss:  1.5041389e-06\n",
      "Epoch  1 loss:  1.1446501e-06\n",
      "Epoch  2 loss:  8.03901e-07\n",
      "Epoch  3 loss:  1.239536e-06\n",
      "Epoch  4 loss:  9.1582945e-07\n",
      "Epoch  5 loss:  3.7891607e-07\n",
      "Epoch  6 loss:  6.4188646e-07\n",
      "Epoch  7 loss:  3.3779295e-07\n",
      "Epoch  8 loss:  5.8411433e-07\n",
      "Epoch  9 loss:  2.0118898e-07\n"
     ]
    },
    {
     "name": "stderr",
     "output_type": "stream",
     "text": [
      "  0%|                                                                                          | 0/288 [00:00<?, ?it/s]H:\\Github\\finbof\\lob_utils\\lob_model_utils.py:54: UserWarning: volatile was removed and now has no effect. Use `with torch.no_grad():` instead.\n",
      "  inputs, targets = Variable(inputs, volatile=True), Variable(targets)\n",
      "100%|████████████████████████████████████████████████████████████████████████████████| 288/288 [00:04<00:00, 63.18it/s]"
     ]
    },
    {
     "name": "stdout",
     "output_type": "stream",
     "text": [
      "{'accuracy': 0.8473677050741396, 'precision': array([0.26477541, 0.95172568, 0.22928177]), 'recall': array([0.42504744, 0.88419897, 0.45448323]), 'f1': array([0.32629279, 0.91672048, 0.30479688]), 'precision_avg': 0.4819276203080379, 'recall_avg': 0.5879098808945914, 'f1_avg': 0.5159367175892527, 'kappa': 0.28095111422865315}\n",
      "----------\n",
      "Elapsed time =  1590.5435945987701\n",
      "----------\n"
     ]
    },
    {
     "name": "stderr",
     "output_type": "stream",
     "text": [
      "\n"
     ]
    }
   ],
   "source": [
    "model = lambda: exps.LSTM_NN()\n",
    "exps.run_experiments(model, 'final_LSTM.pickle', window=15)"
   ]
  },
  {
   "cell_type": "code",
   "execution_count": 3,
   "id": "f01f5991-eddd-44d1-9cc2-5a4c2c70ade1",
   "metadata": {},
   "outputs": [
    {
     "data": {
      "text/html": [
       "<style type=\"text/css\">\n",
       "#T_d90c6_row0_col1, #T_d90c6_row0_col4, #T_d90c6_row2_col5, #T_d90c6_row3_col0, #T_d90c6_row3_col2, #T_d90c6_row3_col3 {\n",
       "  background-color: lightgreen;\n",
       "}\n",
       "#T_d90c6_row0_col6, #T_d90c6_row0_col8, #T_d90c6_row3_col7, #T_d90c6_row3_col9 {\n",
       "  background-color: yellow;\n",
       "}\n",
       "</style>\n",
       "<table id=\"T_d90c6\">\n",
       "  <thead>\n",
       "    <tr>\n",
       "      <th class=\"blank level0\" >&nbsp;</th>\n",
       "      <th id=\"T_d90c6_level0_col0\" class=\"col_heading level0 col0\" >acc_mean</th>\n",
       "      <th id=\"T_d90c6_level0_col1\" class=\"col_heading level0 col1\" >acc_std</th>\n",
       "      <th id=\"T_d90c6_level0_col2\" class=\"col_heading level0 col2\" >precision_mean</th>\n",
       "      <th id=\"T_d90c6_level0_col3\" class=\"col_heading level0 col3\" >precision_std</th>\n",
       "      <th id=\"T_d90c6_level0_col4\" class=\"col_heading level0 col4\" >recall_mean</th>\n",
       "      <th id=\"T_d90c6_level0_col5\" class=\"col_heading level0 col5\" >recall_std</th>\n",
       "      <th id=\"T_d90c6_level0_col6\" class=\"col_heading level0 col6\" >f1_mean</th>\n",
       "      <th id=\"T_d90c6_level0_col7\" class=\"col_heading level0 col7\" >f1_std</th>\n",
       "      <th id=\"T_d90c6_level0_col8\" class=\"col_heading level0 col8\" >kappa_mean</th>\n",
       "      <th id=\"T_d90c6_level0_col9\" class=\"col_heading level0 col9\" >kappa_std</th>\n",
       "    </tr>\n",
       "  </thead>\n",
       "  <tbody>\n",
       "    <tr>\n",
       "      <th id=\"T_d90c6_level0_row0\" class=\"row_heading level0 row0\" >final_cnn</th>\n",
       "      <td id=\"T_d90c6_row0_col0\" class=\"data row0 col0\" >0.742413</td>\n",
       "      <td id=\"T_d90c6_row0_col1\" class=\"data row0 col1\" >0.053759</td>\n",
       "      <td id=\"T_d90c6_row0_col2\" class=\"data row0 col2\" >0.444478</td>\n",
       "      <td id=\"T_d90c6_row0_col3\" class=\"data row0 col3\" >0.013877</td>\n",
       "      <td id=\"T_d90c6_row0_col4\" class=\"data row0 col4\" >0.583807</td>\n",
       "      <td id=\"T_d90c6_row0_col5\" class=\"data row0 col5\" >0.022834</td>\n",
       "      <td id=\"T_d90c6_row0_col6\" class=\"data row0 col6\" >0.467983</td>\n",
       "      <td id=\"T_d90c6_row0_col7\" class=\"data row0 col7\" >0.022141</td>\n",
       "      <td id=\"T_d90c6_row0_col8\" class=\"data row0 col8\" >0.215582</td>\n",
       "      <td id=\"T_d90c6_row0_col9\" class=\"data row0 col9\" >0.031462</td>\n",
       "    </tr>\n",
       "    <tr>\n",
       "      <th id=\"T_d90c6_level0_row1\" class=\"row_heading level0 row1\" >final_gru</th>\n",
       "      <td id=\"T_d90c6_row1_col0\" class=\"data row1 col0\" >0.813147</td>\n",
       "      <td id=\"T_d90c6_row1_col1\" class=\"data row1 col1\" >0.031602</td>\n",
       "      <td id=\"T_d90c6_row1_col2\" class=\"data row1 col2\" >0.477975</td>\n",
       "      <td id=\"T_d90c6_row1_col3\" class=\"data row1 col3\" >0.018165</td>\n",
       "      <td id=\"T_d90c6_row1_col4\" class=\"data row1 col4\" >0.564791</td>\n",
       "      <td id=\"T_d90c6_row1_col5\" class=\"data row1 col5\" >0.031053</td>\n",
       "      <td id=\"T_d90c6_row1_col6\" class=\"data row1 col6\" >0.505293</td>\n",
       "      <td id=\"T_d90c6_row1_col7\" class=\"data row1 col7\" >0.019583</td>\n",
       "      <td id=\"T_d90c6_row1_col8\" class=\"data row1 col8\" >0.255756</td>\n",
       "      <td id=\"T_d90c6_row1_col9\" class=\"data row1 col9\" >0.031818</td>\n",
       "    </tr>\n",
       "    <tr>\n",
       "      <th id=\"T_d90c6_level0_row2\" class=\"row_heading level0 row2\" >final_lstm</th>\n",
       "      <td id=\"T_d90c6_row2_col0\" class=\"data row2 col0\" >0.790352</td>\n",
       "      <td id=\"T_d90c6_row2_col1\" class=\"data row2 col1\" >0.032944</td>\n",
       "      <td id=\"T_d90c6_row2_col2\" class=\"data row2 col2\" >0.465026</td>\n",
       "      <td id=\"T_d90c6_row2_col3\" class=\"data row2 col3\" >0.016974</td>\n",
       "      <td id=\"T_d90c6_row2_col4\" class=\"data row2 col4\" >0.580555</td>\n",
       "      <td id=\"T_d90c6_row2_col5\" class=\"data row2 col5\" >0.033160</td>\n",
       "      <td id=\"T_d90c6_row2_col6\" class=\"data row2 col6\" >0.495645</td>\n",
       "      <td id=\"T_d90c6_row2_col7\" class=\"data row2 col7\" >0.021249</td>\n",
       "      <td id=\"T_d90c6_row2_col8\" class=\"data row2 col8\" >0.246293</td>\n",
       "      <td id=\"T_d90c6_row2_col9\" class=\"data row2 col9\" >0.032659</td>\n",
       "    </tr>\n",
       "    <tr>\n",
       "      <th id=\"T_d90c6_level0_row3\" class=\"row_heading level0 row3\" >final_bof</th>\n",
       "      <td id=\"T_d90c6_row3_col0\" class=\"data row3 col0\" >0.823887</td>\n",
       "      <td id=\"T_d90c6_row3_col1\" class=\"data row3 col1\" >0.031765</td>\n",
       "      <td id=\"T_d90c6_row3_col2\" class=\"data row3 col2\" >0.493379</td>\n",
       "      <td id=\"T_d90c6_row3_col3\" class=\"data row3 col3\" >0.018278</td>\n",
       "      <td id=\"T_d90c6_row3_col4\" class=\"data row3 col4\" >0.577210</td>\n",
       "      <td id=\"T_d90c6_row3_col5\" class=\"data row3 col5\" >0.019557</td>\n",
       "      <td id=\"T_d90c6_row3_col6\" class=\"data row3 col6\" >0.521982</td>\n",
       "      <td id=\"T_d90c6_row3_col7\" class=\"data row3 col7\" >0.018260</td>\n",
       "      <td id=\"T_d90c6_row3_col8\" class=\"data row3 col8\" >0.277757</td>\n",
       "      <td id=\"T_d90c6_row3_col9\" class=\"data row3 col9\" >0.028163</td>\n",
       "    </tr>\n",
       "    <tr>\n",
       "      <th id=\"T_d90c6_level0_row4\" class=\"row_heading level0 row4\" >final_MLLSTM</th>\n",
       "      <td id=\"T_d90c6_row4_col0\" class=\"data row4 col0\" >nan</td>\n",
       "      <td id=\"T_d90c6_row4_col1\" class=\"data row4 col1\" >nan</td>\n",
       "      <td id=\"T_d90c6_row4_col2\" class=\"data row4 col2\" >nan</td>\n",
       "      <td id=\"T_d90c6_row4_col3\" class=\"data row4 col3\" >nan</td>\n",
       "      <td id=\"T_d90c6_row4_col4\" class=\"data row4 col4\" >nan</td>\n",
       "      <td id=\"T_d90c6_row4_col5\" class=\"data row4 col5\" >nan</td>\n",
       "      <td id=\"T_d90c6_row4_col6\" class=\"data row4 col6\" >nan</td>\n",
       "      <td id=\"T_d90c6_row4_col7\" class=\"data row4 col7\" >nan</td>\n",
       "      <td id=\"T_d90c6_row4_col8\" class=\"data row4 col8\" >nan</td>\n",
       "      <td id=\"T_d90c6_row4_col9\" class=\"data row4 col9\" >nan</td>\n",
       "    </tr>\n",
       "  </tbody>\n",
       "</table>\n"
      ],
      "text/plain": [
       "<pandas.io.formats.style.Styler at 0x1a004298090>"
      ]
     },
     "execution_count": 3,
     "metadata": {},
     "output_type": "execute_result"
    }
   ],
   "source": [
    "p.print_results_df()"
   ]
  }
 ],
 "metadata": {
  "kernelspec": {
   "display_name": "Python 3 (ipykernel)",
   "language": "python",
   "name": "python3"
  },
  "language_info": {
   "codemirror_mode": {
    "name": "ipython",
    "version": 3
   },
   "file_extension": ".py",
   "mimetype": "text/x-python",
   "name": "python",
   "nbconvert_exporter": "python",
   "pygments_lexer": "ipython3",
   "version": "3.11.1"
  }
 },
 "nbformat": 4,
 "nbformat_minor": 5
}
