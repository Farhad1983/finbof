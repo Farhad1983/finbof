{
 "cells": [
  {
   "cell_type": "code",
   "execution_count": 1,
   "id": "0340f9bc-a1af-4ef4-944f-ba98dd60450a",
   "metadata": {},
   "outputs": [
    {
     "name": "stdout",
     "output_type": "stream",
     "text": [
      "device:  cuda\n"
     ]
    }
   ],
   "source": [
    "import run_exps as exps\n",
    "import print_results as p\n",
    "from models.nn_models import  GRU_NN, LSTM_NN, CNN_NN, ML_LSTM_NN  "
   ]
  },
  {
   "cell_type": "code",
   "execution_count": 2,
   "id": "d3455e20-44bf-4695-aaf6-7bce571e0618",
   "metadata": {},
   "outputs": [
    {
     "name": "stdout",
     "output_type": "stream",
     "text": [
      "Evaluating for split:  0\n",
      "Epoch  0 loss:  2.1816959e-05\n",
      "Epoch  1 loss:  2.1969867e-05\n",
      "Epoch  2 loss:  2.0212237e-05\n",
      "Epoch  3 loss:  2.0239619e-05\n",
      "Epoch  4 loss:  1.9551768e-05\n",
      "Epoch  5 loss:  1.8619137e-05\n",
      "Epoch  6 loss:  1.610706e-05\n",
      "Epoch  7 loss:  1.662817e-05\n",
      "Epoch  8 loss:  1.9010902e-05\n",
      "Epoch  9 loss:  1.605999e-05\n"
     ]
    },
    {
     "name": "stderr",
     "output_type": "stream",
     "text": [
      "  0%|                                                                                          | 0/349 [00:00<?, ?it/s]H:\\Github\\finbof\\lob_utils\\lob_model_utils.py:54: UserWarning: volatile was removed and now has no effect. Use `with torch.no_grad():` instead.\n",
      "  inputs, targets = Variable(inputs, volatile=True), Variable(targets)\n",
      "100%|████████████████████████████████████████████████████████████████████████████████| 349/349 [00:08<00:00, 42.97it/s]\n"
     ]
    },
    {
     "name": "stdout",
     "output_type": "stream",
     "text": [
      "{'accuracy': 0.512360205293709, 'precision': array([0.14200239, 0.95226409, 0.11933382]), 'recall': array([0.56463125, 0.50163502, 0.6223565 ]), 'f1': array([0.22693227, 0.65711439, 0.20026735]), 'precision_avg': 0.4045334322538629, 'recall_avg': 0.5628742543153077, 'f1_avg': 0.36143800430765677, 'kappa': 0.12476113048346704}\n",
      "Evaluating for split:  1\n",
      "Epoch  0 loss:  8.62903e-06\n",
      "Epoch  1 loss:  9.347491e-06\n",
      "Epoch  2 loss:  1.0464286e-05\n",
      "Epoch  3 loss:  9.128852e-06\n",
      "Epoch  4 loss:  8.971383e-06\n",
      "Epoch  5 loss:  7.631907e-06\n",
      "Epoch  6 loss:  9.293469e-06\n",
      "Epoch  7 loss:  8.31684e-06\n",
      "Epoch  8 loss:  1.0387614e-05\n",
      "Epoch  9 loss:  7.732961e-06\n"
     ]
    },
    {
     "name": "stderr",
     "output_type": "stream",
     "text": [
      "  0%|                                                                                          | 0/260 [00:00<?, ?it/s]H:\\Github\\finbof\\lob_utils\\lob_model_utils.py:54: UserWarning: volatile was removed and now has no effect. Use `with torch.no_grad():` instead.\n",
      "  inputs, targets = Variable(inputs, volatile=True), Variable(targets)\n",
      "100%|████████████████████████████████████████████████████████████████████████████████| 260/260 [00:06<00:00, 37.78it/s]\n"
     ]
    },
    {
     "name": "stdout",
     "output_type": "stream",
     "text": [
      "{'accuracy': 0.5309857035364937, 'precision': array([0.10588972, 0.96274815, 0.08827798]), 'recall': array([0.38820827, 0.53051071, 0.65901848]), 'f1': array([0.16639317, 0.68407189, 0.15569944]), 'precision_avg': 0.3856386174723147, 'recall_avg': 0.5259124870125022, 'f1_avg': 0.3353881677616279, 'kappa': 0.09437041233773724}\n",
      "Evaluating for split:  2\n",
      "Epoch  0 loss:  7.15114e-06\n",
      "Epoch  1 loss:  7.6961105e-06\n",
      "Epoch  2 loss:  6.5475197e-06\n",
      "Epoch  3 loss:  6.528981e-06\n",
      "Epoch  4 loss:  6.6048415e-06\n",
      "Epoch  5 loss:  6.1442424e-06\n",
      "Epoch  6 loss:  6.320623e-06\n",
      "Epoch  7 loss:  6.035174e-06\n",
      "Epoch  8 loss:  7.831067e-06\n",
      "Epoch  9 loss:  8.297583e-06\n"
     ]
    },
    {
     "name": "stderr",
     "output_type": "stream",
     "text": [
      "  0%|                                                                                          | 0/335 [00:00<?, ?it/s]H:\\Github\\finbof\\lob_utils\\lob_model_utils.py:54: UserWarning: volatile was removed and now has no effect. Use `with torch.no_grad():` instead.\n",
      "  inputs, targets = Variable(inputs, volatile=True), Variable(targets)\n",
      "100%|████████████████████████████████████████████████████████████████████████████████| 335/335 [00:07<00:00, 42.59it/s]\n"
     ]
    },
    {
     "name": "stdout",
     "output_type": "stream",
     "text": [
      "{'accuracy': 0.466637041887878, 'precision': array([0.13392041, 0.92252655, 0.1431021 ]), 'recall': array([0.55624569, 0.4516694 , 0.55317867]), 'f1': array([0.21586876, 0.60643028, 0.2273825 ]), 'precision_avg': 0.39984968921713676, 'recall_avg': 0.5203645861158623, 'f1_avg': 0.34989384751058933, 'kappa': 0.11114100683606654}\n",
      "Evaluating for split:  3\n",
      "Epoch  0 loss:  5.253226e-06\n",
      "Epoch  1 loss:  5.964328e-06\n",
      "Epoch  2 loss:  7.138877e-06\n",
      "Epoch  3 loss:  4.4447725e-06\n",
      "Epoch  4 loss:  5.8158075e-06\n",
      "Epoch  5 loss:  3.9803904e-06\n",
      "Epoch  6 loss:  5.817049e-06\n",
      "Epoch  7 loss:  5.334663e-06\n",
      "Epoch  8 loss:  4.224077e-06\n",
      "Epoch  9 loss:  6.70107e-06\n"
     ]
    },
    {
     "name": "stderr",
     "output_type": "stream",
     "text": [
      "  0%|                                                                                          | 0/318 [00:00<?, ?it/s]H:\\Github\\finbof\\lob_utils\\lob_model_utils.py:54: UserWarning: volatile was removed and now has no effect. Use `with torch.no_grad():` instead.\n",
      "  inputs, targets = Variable(inputs, volatile=True), Variable(targets)\n",
      "100%|████████████████████████████████████████████████████████████████████████████████| 318/318 [00:07<00:00, 40.60it/s]\n"
     ]
    },
    {
     "name": "stdout",
     "output_type": "stream",
     "text": [
      "{'accuracy': 0.5542334546169732, 'precision': array([0.13072988, 0.94389266, 0.15133779]), 'recall': array([0.55560201, 0.55346493, 0.56364344]), 'f1': array([0.21165791, 0.69777786, 0.23860921]), 'precision_avg': 0.40865344415858185, 'recall_avg': 0.5575701261393288, 'f1_avg': 0.38268165834487733, 'kappa': 0.14009500394394903}\n",
      "Evaluating for split:  4\n",
      "Epoch  0 loss:  4.817528e-06\n",
      "Epoch  1 loss:  3.876772e-06\n",
      "Epoch  2 loss:  3.7797527e-06\n",
      "Epoch  3 loss:  4.299419e-06\n",
      "Epoch  4 loss:  4.636663e-06\n",
      "Epoch  5 loss:  4.0121454e-06\n",
      "Epoch  6 loss:  3.10941e-06\n",
      "Epoch  7 loss:  3.56048e-06\n",
      "Epoch  8 loss:  4.2055754e-06\n",
      "Epoch  9 loss:  3.9195947e-06\n"
     ]
    },
    {
     "name": "stderr",
     "output_type": "stream",
     "text": [
      "  0%|                                                                                          | 0/366 [00:00<?, ?it/s]H:\\Github\\finbof\\lob_utils\\lob_model_utils.py:54: UserWarning: volatile was removed and now has no effect. Use `with torch.no_grad():` instead.\n",
      "  inputs, targets = Variable(inputs, volatile=True), Variable(targets)\n",
      "100%|████████████████████████████████████████████████████████████████████████████████| 366/366 [00:08<00:00, 44.51it/s]\n"
     ]
    },
    {
     "name": "stdout",
     "output_type": "stream",
     "text": [
      "{'accuracy': 0.5671115103297831, 'precision': array([0.13699725, 0.95332246, 0.14491564]), 'recall': array([0.59506363, 0.56514174, 0.57035176]), 'f1': array([0.2227194 , 0.70961477, 0.23111046]), 'precision_avg': 0.41174511686363785, 'recall_avg': 0.5768523767382342, 'f1_avg': 0.3878148787046756, 'kappa': 0.14853537970979813}\n",
      "Evaluating for split:  5\n",
      "Epoch  0 loss:  3.933214e-06\n",
      "Epoch  1 loss:  3.911288e-06\n",
      "Epoch  2 loss:  3.0695257e-06\n",
      "Epoch  3 loss:  3.2341684e-06\n",
      "Epoch  4 loss:  2.9018092e-06\n",
      "Epoch  5 loss:  3.318159e-06\n",
      "Epoch  6 loss:  3.114589e-06\n",
      "Epoch  7 loss:  3.06654e-06\n",
      "Epoch  8 loss:  3.4443808e-06\n",
      "Epoch  9 loss:  3.1162983e-06\n"
     ]
    },
    {
     "name": "stderr",
     "output_type": "stream",
     "text": [
      "  0%|                                                                                          | 0/349 [00:00<?, ?it/s]H:\\Github\\finbof\\lob_utils\\lob_model_utils.py:54: UserWarning: volatile was removed and now has no effect. Use `with torch.no_grad():` instead.\n",
      "  inputs, targets = Variable(inputs, volatile=True), Variable(targets)\n",
      "100%|████████████████████████████████████████████████████████████████████████████████| 349/349 [00:08<00:00, 42.82it/s]\n"
     ]
    },
    {
     "name": "stdout",
     "output_type": "stream",
     "text": [
      "{'accuracy': 0.562617702448211, 'precision': array([0.14756318, 0.94950882, 0.13299541]), 'recall': array([0.51475797, 0.5600992 , 0.64950884]), 'f1': array([0.22937308, 0.7045791 , 0.22078269]), 'precision_avg': 0.410022468809059, 'recall_avg': 0.5747886684904233, 'f1_avg': 0.38491162253937605, 'kappa': 0.1419681406109501}\n",
      "Evaluating for split:  6\n",
      "Epoch  0 loss:  2.9916955e-06\n",
      "Epoch  1 loss:  3.1332543e-06\n",
      "Epoch  2 loss:  2.9781227e-06\n",
      "Epoch  3 loss:  3.1553263e-06\n",
      "Epoch  4 loss:  2.7426952e-06\n",
      "Epoch  5 loss:  3.193141e-06\n",
      "Epoch  6 loss:  3.198675e-06\n",
      "Epoch  7 loss:  2.7452165e-06\n",
      "Epoch  8 loss:  2.552985e-06\n",
      "Epoch  9 loss:  2.66004e-06\n"
     ]
    },
    {
     "name": "stderr",
     "output_type": "stream",
     "text": [
      "  0%|                                                                                          | 0/465 [00:00<?, ?it/s]H:\\Github\\finbof\\lob_utils\\lob_model_utils.py:54: UserWarning: volatile was removed and now has no effect. Use `with torch.no_grad():` instead.\n",
      "  inputs, targets = Variable(inputs, volatile=True), Variable(targets)\n",
      "100%|████████████████████████████████████████████████████████████████████████████████| 465/465 [00:09<00:00, 47.02it/s]\n"
     ]
    },
    {
     "name": "stdout",
     "output_type": "stream",
     "text": [
      "{'accuracy': 0.6189011062914018, 'precision': array([0.12987928, 0.97212494, 0.09558161]), 'recall': array([0.52931529, 0.62145288, 0.65619048]), 'f1': array([0.20857905, 0.75820564, 0.16685839]), 'precision_avg': 0.39919527339946886, 'recall_avg': 0.6023195511504121, 'f1_avg': 0.37788102472276247, 'kappa': 0.13221718088975531}\n",
      "Evaluating for split:  7\n",
      "Epoch  0 loss:  2.7011017e-06\n",
      "Epoch  1 loss:  2.420047e-06\n",
      "Epoch  2 loss:  2.5226682e-06\n",
      "Epoch  3 loss:  2.3216726e-06\n",
      "Epoch  4 loss:  2.4501644e-06\n",
      "Epoch  5 loss:  2.3035686e-06\n",
      "Epoch  6 loss:  1.968973e-06\n",
      "Epoch  7 loss:  2.1577341e-06\n",
      "Epoch  8 loss:  2.1457183e-06\n",
      "Epoch  9 loss:  2.2666218e-06\n"
     ]
    },
    {
     "name": "stderr",
     "output_type": "stream",
     "text": [
      "  0%|                                                                                          | 0/449 [00:00<?, ?it/s]H:\\Github\\finbof\\lob_utils\\lob_model_utils.py:54: UserWarning: volatile was removed and now has no effect. Use `with torch.no_grad():` instead.\n",
      "  inputs, targets = Variable(inputs, volatile=True), Variable(targets)\n",
      "100%|████████████████████████████████████████████████████████████████████████████████| 449/449 [00:09<00:00, 46.36it/s]\n"
     ]
    },
    {
     "name": "stdout",
     "output_type": "stream",
     "text": [
      "{'accuracy': 0.5937238930659984, 'precision': array([0.10621098, 0.96545678, 0.11235143]), 'recall': array([0.57272335, 0.59608774, 0.56320451]), 'f1': array([0.17919114, 0.73708683, 0.18733262]), 'precision_avg': 0.39467306442956723, 'recall_avg': 0.5773385329901174, 'f1_avg': 0.36787019744632743, 'kappa': 0.12311428192817075}\n",
      "Evaluating for split:  8\n",
      "Epoch  0 loss:  2.5294792e-06\n",
      "Epoch  1 loss:  2.1935691e-06\n",
      "Epoch  2 loss:  2.0889274e-06\n",
      "Epoch  3 loss:  2.2652587e-06\n",
      "Epoch  4 loss:  1.7117912e-06\n",
      "Epoch  5 loss:  2.064443e-06\n",
      "Epoch  6 loss:  1.6576475e-06\n",
      "Epoch  7 loss:  2.0523923e-06\n",
      "Epoch  8 loss:  2.047886e-06\n",
      "Epoch  9 loss:  1.7873191e-06\n"
     ]
    },
    {
     "name": "stderr",
     "output_type": "stream",
     "text": [
      "  0%|                                                                                          | 0/288 [00:00<?, ?it/s]H:\\Github\\finbof\\lob_utils\\lob_model_utils.py:54: UserWarning: volatile was removed and now has no effect. Use `with torch.no_grad():` instead.\n",
      "  inputs, targets = Variable(inputs, volatile=True), Variable(targets)\n",
      "100%|████████████████████████████████████████████████████████████████████████████████| 288/288 [00:07<00:00, 38.61it/s]"
     ]
    },
    {
     "name": "stdout",
     "output_type": "stream",
     "text": [
      "{'accuracy': 0.6599646306624949, 'precision': array([0.12270642, 0.96654038, 0.11215084]), 'recall': array([0.47375079, 0.67347907, 0.54962355]), 'f1': array([0.19492518, 0.79382561, 0.18628929]), 'precision_avg': 0.4004658790576328, 'recall_avg': 0.5656178031700326, 'f1_avg': 0.3916800263687806, 'kappa': 0.14753696868419552}\n",
      "----------\n",
      "Elapsed time =  6195.553079843521\n",
      "----------\n"
     ]
    },
    {
     "name": "stderr",
     "output_type": "stream",
     "text": [
      "\n"
     ]
    }
   ],
   "source": [
    "model = lambda: exps.ML_LSTM_NN()\n",
    "exps.run_experiments(model, 'final_MLLSTM.pickle', window=15)"
   ]
  },
  {
   "cell_type": "code",
   "execution_count": 3,
   "id": "8179b9f8-ce05-4f3d-a37f-9d4d82d12104",
   "metadata": {},
   "outputs": [
    {
     "data": {
      "text/html": [
       "<style type=\"text/css\">\n",
       "#T_14bbf_row0_col4, #T_14bbf_row2_col5, #T_14bbf_row3_col0, #T_14bbf_row3_col2, #T_14bbf_row3_col3, #T_14bbf_row4_col1 {\n",
       "  background-color: lightgreen;\n",
       "}\n",
       "#T_14bbf_row4_col6, #T_14bbf_row4_col7, #T_14bbf_row4_col8, #T_14bbf_row4_col9 {\n",
       "  background-color: yellow;\n",
       "}\n",
       "</style>\n",
       "<table id=\"T_14bbf\">\n",
       "  <thead>\n",
       "    <tr>\n",
       "      <th class=\"blank level0\" >&nbsp;</th>\n",
       "      <th id=\"T_14bbf_level0_col0\" class=\"col_heading level0 col0\" >acc_mean</th>\n",
       "      <th id=\"T_14bbf_level0_col1\" class=\"col_heading level0 col1\" >acc_std</th>\n",
       "      <th id=\"T_14bbf_level0_col2\" class=\"col_heading level0 col2\" >precision_mean</th>\n",
       "      <th id=\"T_14bbf_level0_col3\" class=\"col_heading level0 col3\" >precision_std</th>\n",
       "      <th id=\"T_14bbf_level0_col4\" class=\"col_heading level0 col4\" >recall_mean</th>\n",
       "      <th id=\"T_14bbf_level0_col5\" class=\"col_heading level0 col5\" >recall_std</th>\n",
       "      <th id=\"T_14bbf_level0_col6\" class=\"col_heading level0 col6\" >f1_mean</th>\n",
       "      <th id=\"T_14bbf_level0_col7\" class=\"col_heading level0 col7\" >f1_std</th>\n",
       "      <th id=\"T_14bbf_level0_col8\" class=\"col_heading level0 col8\" >kappa_mean</th>\n",
       "      <th id=\"T_14bbf_level0_col9\" class=\"col_heading level0 col9\" >kappa_std</th>\n",
       "    </tr>\n",
       "  </thead>\n",
       "  <tbody>\n",
       "    <tr>\n",
       "      <th id=\"T_14bbf_level0_row0\" class=\"row_heading level0 row0\" >final_cnn</th>\n",
       "      <td id=\"T_14bbf_row0_col0\" class=\"data row0 col0\" >0.742413</td>\n",
       "      <td id=\"T_14bbf_row0_col1\" class=\"data row0 col1\" >0.053759</td>\n",
       "      <td id=\"T_14bbf_row0_col2\" class=\"data row0 col2\" >0.444478</td>\n",
       "      <td id=\"T_14bbf_row0_col3\" class=\"data row0 col3\" >0.013877</td>\n",
       "      <td id=\"T_14bbf_row0_col4\" class=\"data row0 col4\" >0.583807</td>\n",
       "      <td id=\"T_14bbf_row0_col5\" class=\"data row0 col5\" >0.022834</td>\n",
       "      <td id=\"T_14bbf_row0_col6\" class=\"data row0 col6\" >0.467983</td>\n",
       "      <td id=\"T_14bbf_row0_col7\" class=\"data row0 col7\" >0.022141</td>\n",
       "      <td id=\"T_14bbf_row0_col8\" class=\"data row0 col8\" >0.215582</td>\n",
       "      <td id=\"T_14bbf_row0_col9\" class=\"data row0 col9\" >0.031462</td>\n",
       "    </tr>\n",
       "    <tr>\n",
       "      <th id=\"T_14bbf_level0_row1\" class=\"row_heading level0 row1\" >final_gru</th>\n",
       "      <td id=\"T_14bbf_row1_col0\" class=\"data row1 col0\" >0.813147</td>\n",
       "      <td id=\"T_14bbf_row1_col1\" class=\"data row1 col1\" >0.031602</td>\n",
       "      <td id=\"T_14bbf_row1_col2\" class=\"data row1 col2\" >0.477975</td>\n",
       "      <td id=\"T_14bbf_row1_col3\" class=\"data row1 col3\" >0.018165</td>\n",
       "      <td id=\"T_14bbf_row1_col4\" class=\"data row1 col4\" >0.564791</td>\n",
       "      <td id=\"T_14bbf_row1_col5\" class=\"data row1 col5\" >0.031053</td>\n",
       "      <td id=\"T_14bbf_row1_col6\" class=\"data row1 col6\" >0.505293</td>\n",
       "      <td id=\"T_14bbf_row1_col7\" class=\"data row1 col7\" >0.019583</td>\n",
       "      <td id=\"T_14bbf_row1_col8\" class=\"data row1 col8\" >0.255756</td>\n",
       "      <td id=\"T_14bbf_row1_col9\" class=\"data row1 col9\" >0.031818</td>\n",
       "    </tr>\n",
       "    <tr>\n",
       "      <th id=\"T_14bbf_level0_row2\" class=\"row_heading level0 row2\" >final_lstm</th>\n",
       "      <td id=\"T_14bbf_row2_col0\" class=\"data row2 col0\" >0.790352</td>\n",
       "      <td id=\"T_14bbf_row2_col1\" class=\"data row2 col1\" >0.032944</td>\n",
       "      <td id=\"T_14bbf_row2_col2\" class=\"data row2 col2\" >0.465026</td>\n",
       "      <td id=\"T_14bbf_row2_col3\" class=\"data row2 col3\" >0.016974</td>\n",
       "      <td id=\"T_14bbf_row2_col4\" class=\"data row2 col4\" >0.580555</td>\n",
       "      <td id=\"T_14bbf_row2_col5\" class=\"data row2 col5\" >0.033160</td>\n",
       "      <td id=\"T_14bbf_row2_col6\" class=\"data row2 col6\" >0.495645</td>\n",
       "      <td id=\"T_14bbf_row2_col7\" class=\"data row2 col7\" >0.021249</td>\n",
       "      <td id=\"T_14bbf_row2_col8\" class=\"data row2 col8\" >0.246293</td>\n",
       "      <td id=\"T_14bbf_row2_col9\" class=\"data row2 col9\" >0.032659</td>\n",
       "    </tr>\n",
       "    <tr>\n",
       "      <th id=\"T_14bbf_level0_row3\" class=\"row_heading level0 row3\" >final_bof</th>\n",
       "      <td id=\"T_14bbf_row3_col0\" class=\"data row3 col0\" >0.823887</td>\n",
       "      <td id=\"T_14bbf_row3_col1\" class=\"data row3 col1\" >0.031765</td>\n",
       "      <td id=\"T_14bbf_row3_col2\" class=\"data row3 col2\" >0.493379</td>\n",
       "      <td id=\"T_14bbf_row3_col3\" class=\"data row3 col3\" >0.018278</td>\n",
       "      <td id=\"T_14bbf_row3_col4\" class=\"data row3 col4\" >0.577210</td>\n",
       "      <td id=\"T_14bbf_row3_col5\" class=\"data row3 col5\" >0.019557</td>\n",
       "      <td id=\"T_14bbf_row3_col6\" class=\"data row3 col6\" >0.521982</td>\n",
       "      <td id=\"T_14bbf_row3_col7\" class=\"data row3 col7\" >0.018260</td>\n",
       "      <td id=\"T_14bbf_row3_col8\" class=\"data row3 col8\" >0.277757</td>\n",
       "      <td id=\"T_14bbf_row3_col9\" class=\"data row3 col9\" >0.028163</td>\n",
       "    </tr>\n",
       "    <tr>\n",
       "      <th id=\"T_14bbf_level0_row4\" class=\"row_heading level0 row4\" >final_MLLSTM</th>\n",
       "      <td id=\"T_14bbf_row4_col0\" class=\"data row4 col0\" >0.562948</td>\n",
       "      <td id=\"T_14bbf_row4_col1\" class=\"data row4 col1\" >0.054201</td>\n",
       "      <td id=\"T_14bbf_row4_col2\" class=\"data row4 col2\" >0.401642</td>\n",
       "      <td id=\"T_14bbf_row4_col3\" class=\"data row4 col3\" >0.007782</td>\n",
       "      <td id=\"T_14bbf_row4_col4\" class=\"data row4 col4\" >0.562626</td>\n",
       "      <td id=\"T_14bbf_row4_col5\" class=\"data row4 col5\" >0.024292</td>\n",
       "      <td id=\"T_14bbf_row4_col6\" class=\"data row4 col6\" >0.371062</td>\n",
       "      <td id=\"T_14bbf_row4_col7\" class=\"data row4 col7\" >0.017959</td>\n",
       "      <td id=\"T_14bbf_row4_col8\" class=\"data row4 col8\" >0.129304</td>\n",
       "      <td id=\"T_14bbf_row4_col9\" class=\"data row4 col9\" >0.016986</td>\n",
       "    </tr>\n",
       "  </tbody>\n",
       "</table>\n"
      ],
      "text/plain": [
       "<pandas.io.formats.style.Styler at 0x17b83b9b290>"
      ]
     },
     "execution_count": 3,
     "metadata": {},
     "output_type": "execute_result"
    }
   ],
   "source": [
    "p.print_results_df()"
   ]
  },
  {
   "cell_type": "code",
   "execution_count": null,
   "id": "87bb4371-75a4-4a1d-82a3-e43db6178103",
   "metadata": {},
   "outputs": [],
   "source": []
  }
 ],
 "metadata": {
  "kernelspec": {
   "display_name": "Python 3 (ipykernel)",
   "language": "python",
   "name": "python3"
  },
  "language_info": {
   "codemirror_mode": {
    "name": "ipython",
    "version": 3
   },
   "file_extension": ".py",
   "mimetype": "text/x-python",
   "name": "python",
   "nbconvert_exporter": "python",
   "pygments_lexer": "ipython3",
   "version": "3.11.1"
  }
 },
 "nbformat": 4,
 "nbformat_minor": 5
}
