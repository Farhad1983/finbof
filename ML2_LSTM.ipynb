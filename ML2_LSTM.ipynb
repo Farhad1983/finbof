{
 "cells": [
  {
   "cell_type": "code",
   "execution_count": 1,
   "id": "4a5fd7a9-bd4a-4d39-9f2a-dc53a05d4d66",
   "metadata": {},
   "outputs": [
    {
     "name": "stdout",
     "output_type": "stream",
     "text": [
      "device:  cuda\n"
     ]
    }
   ],
   "source": [
    "import run_exps as exps\n",
    "import print_results as p\n",
    "from models.nn_models import  GRU_NN, LSTM_NN, CNN_NN, ML_LSTM_NN  "
   ]
  },
  {
   "cell_type": "code",
   "execution_count": null,
   "id": "c5468a0f-f958-404f-8190-1b9647c55f78",
   "metadata": {},
   "outputs": [
    {
     "name": "stdout",
     "output_type": "stream",
     "text": [
      "Evaluating for split:  0\n",
      "Epoch  0 loss:  2.1379694e-05\n",
      "Epoch  1 loss:  2.0190715e-05\n",
      "Epoch  2 loss:  1.9417452e-05\n",
      "Epoch  3 loss:  1.8978513e-05\n",
      "Epoch  4 loss:  1.8612502e-05\n",
      "Epoch  5 loss:  1.8869545e-05\n",
      "Epoch  6 loss:  1.6533635e-05\n",
      "Epoch  7 loss:  1.7534217e-05\n",
      "Epoch  8 loss:  1.7200562e-05\n",
      "Epoch  9 loss:  1.7431885e-05\n"
     ]
    },
    {
     "name": "stderr",
     "output_type": "stream",
     "text": [
      "  0%|                                                                                          | 0/349 [00:00<?, ?it/s]H:\\Github\\finbof\\lob_utils\\lob_model_utils.py:54: UserWarning: volatile was removed and now has no effect. Use `with torch.no_grad():` instead.\n",
      "  inputs, targets = Variable(inputs, volatile=True), Variable(targets)\n",
      "100%|████████████████████████████████████████████████████████████████████████████████| 349/349 [00:07<00:00, 44.97it/s]\n"
     ]
    },
    {
     "name": "stdout",
     "output_type": "stream",
     "text": [
      "{'accuracy': 0.48069208184853984, 'precision': array([0.13689737, 0.95514993, 0.11350124]), 'recall': array([0.56859635, 0.46427032, 0.64161631]), 'f1': array([0.22066631, 0.62482942, 0.19288188]), 'precision_avg': 0.40184951513337436, 'recall_avg': 0.5581609966699984, 'f1_avg': 0.34612586815601015, 'kappa': 0.11511634358450551}\n",
      "Evaluating for split:  1\n",
      "Epoch  0 loss:  8.939097e-06\n",
      "Epoch  1 loss:  9.522999e-06\n",
      "Epoch  2 loss:  9.492587e-06\n",
      "Epoch  3 loss:  1.0352129e-05\n",
      "Epoch  4 loss:  7.5854146e-06\n",
      "Epoch  5 loss:  8.527637e-06\n",
      "Epoch  6 loss:  9.368365e-06\n",
      "Epoch  7 loss:  1.0101773e-05\n",
      "Epoch  8 loss:  9.069705e-06\n",
      "Epoch  9 loss:  9.698774e-06\n"
     ]
    },
    {
     "name": "stderr",
     "output_type": "stream",
     "text": [
      "  0%|                                                                                          | 0/260 [00:00<?, ?it/s]H:\\Github\\finbof\\lob_utils\\lob_model_utils.py:54: UserWarning: volatile was removed and now has no effect. Use `with torch.no_grad():` instead.\n",
      "  inputs, targets = Variable(inputs, volatile=True), Variable(targets)\n",
      "100%|████████████████████████████████████████████████████████████████████████████████| 260/260 [00:06<00:00, 39.62it/s]\n"
     ]
    },
    {
     "name": "stdout",
     "output_type": "stream",
     "text": [
      "{'accuracy': 0.5407674943566592, 'precision': array([0.09695583, 0.96085305, 0.09312362]), 'recall': array([0.42189893, 0.54184514, 0.61886552]), 'f1': array([0.15767635, 0.69293163, 0.1618873 ]), 'precision_avg': 0.38364416914396443, 'recall_avg': 0.5275365291655282, 'f1_avg': 0.3374984260494769, 'kappa': 0.09583276733746326}\n",
      "Evaluating for split:  2\n",
      "Epoch  0 loss:  7.1282116e-06\n",
      "Epoch  1 loss:  6.944463e-06\n",
      "Epoch  2 loss:  6.945379e-06\n",
      "Epoch  3 loss:  7.248733e-06\n",
      "Epoch  4 loss:  7.123342e-06\n",
      "Epoch  5 loss:  8.273282e-06\n",
      "Epoch  6 loss:  6.077344e-06\n",
      "Epoch  7 loss:  7.788991e-06\n",
      "Epoch  8 loss:  6.1673336e-06\n",
      "Epoch  9 loss:  5.831988e-06\n"
     ]
    },
    {
     "name": "stderr",
     "output_type": "stream",
     "text": [
      "  0%|                                                                                          | 0/335 [00:00<?, ?it/s]H:\\Github\\finbof\\lob_utils\\lob_model_utils.py:54: UserWarning: volatile was removed and now has no effect. Use `with torch.no_grad():` instead.\n",
      "  inputs, targets = Variable(inputs, volatile=True), Variable(targets)\n",
      "100%|████████████████████████████████████████████████████████████████████████████████| 335/335 [00:07<00:00, 44.96it/s]\n"
     ]
    },
    {
     "name": "stdout",
     "output_type": "stream",
     "text": [
      "{'accuracy': 0.4607198821245644, 'precision': array([0.11940829, 0.9188492 , 0.15057524]), 'recall': array([0.57936508, 0.44838533, 0.49291955]), 'f1': array([0.19800696, 0.60267422, 0.23068246]), 'precision_avg': 0.39627757642112, 'recall_avg': 0.5068899881971954, 'f1_avg': 0.34378787892633206, 'kappa': 0.10357792944169608}\n",
      "Evaluating for split:  3\n",
      "Epoch  0 loss:  5.1157394e-06\n",
      "Epoch  1 loss:  6.298748e-06\n",
      "Epoch  2 loss:  5.6451295e-06\n",
      "Epoch  3 loss:  3.6582694e-06\n",
      "Epoch  4 loss:  6.0321095e-06\n",
      "Epoch  5 loss:  5.5470664e-06\n",
      "Epoch  6 loss:  3.6543506e-06\n",
      "Epoch  7 loss:  4.804096e-06\n",
      "Epoch  8 loss:  5.161856e-06\n",
      "Epoch  9 loss:  4.3078453e-06\n"
     ]
    },
    {
     "name": "stderr",
     "output_type": "stream",
     "text": [
      "  0%|                                                                                          | 0/318 [00:00<?, ?it/s]H:\\Github\\finbof\\lob_utils\\lob_model_utils.py:54: UserWarning: volatile was removed and now has no effect. Use `with torch.no_grad():` instead.\n",
      "  inputs, targets = Variable(inputs, volatile=True), Variable(targets)\n",
      "100%|████████████████████████████████████████████████████████████████████████████████| 318/318 [00:07<00:00, 42.79it/s]\n"
     ]
    },
    {
     "name": "stdout",
     "output_type": "stream",
     "text": [
      "{'accuracy': 0.5464647457960468, 'precision': array([0.13530475, 0.94256331, 0.14313854]), 'recall': array([0.53177258, 0.54402912, 0.59400545]), 'f1': array([0.21572119, 0.68987555, 0.23068783]), 'precision_avg': 0.40700220121822533, 'recall_avg': 0.5566023814199096, 'f1_avg': 0.3787615245939624, 'kappa': 0.1359251232218448}\n",
      "Evaluating for split:  4\n",
      "Epoch  0 loss:  4.1264902e-06\n",
      "Epoch  1 loss:  4.0000887e-06\n",
      "Epoch  2 loss:  4.6470655e-06\n",
      "Epoch  3 loss:  3.861065e-06\n",
      "Epoch  4 loss:  4.1765834e-06\n",
      "Epoch  5 loss:  4.6025352e-06\n",
      "Epoch  6 loss:  4.615865e-06\n",
      "Epoch  7 loss:  4.556925e-06\n",
      "Epoch  8 loss:  4.167129e-06\n",
      "Epoch  9 loss:  3.3838496e-06\n"
     ]
    },
    {
     "name": "stderr",
     "output_type": "stream",
     "text": [
      "  0%|                                                                                          | 0/366 [00:00<?, ?it/s]H:\\Github\\finbof\\lob_utils\\lob_model_utils.py:54: UserWarning: volatile was removed and now has no effect. Use `with torch.no_grad():` instead.\n",
      "  inputs, targets = Variable(inputs, volatile=True), Variable(targets)\n",
      "100%|████████████████████████████████████████████████████████████████████████████████| 366/366 [00:08<00:00, 44.34it/s]\n"
     ]
    },
    {
     "name": "stdout",
     "output_type": "stream",
     "text": [
      "{'accuracy': 0.5453612216091364, 'precision': array([0.1392732 , 0.95375475, 0.13379663]), 'recall': array([0.58233706, 0.53928321, 0.60122039]), 'f1': array([0.22478601, 0.68898975, 0.21888272]), 'precision_avg': 0.40894152694466346, 'recall_avg': 0.5742802200874118, 'f1_avg': 0.37755282468492424, 'kappa': 0.13954017044697442}\n",
      "Evaluating for split:  5\n",
      "Epoch  0 loss:  4.011241e-06\n",
      "Epoch  1 loss:  3.4216243e-06\n",
      "Epoch  2 loss:  3.51322e-06\n",
      "Epoch  3 loss:  3.8241083e-06\n",
      "Epoch  4 loss:  3.057691e-06\n",
      "Epoch  5 loss:  2.7662475e-06\n",
      "Epoch  6 loss:  4.035125e-06\n",
      "Epoch  7 loss:  3.7322613e-06\n",
      "Epoch  8 loss:  3.188417e-06\n",
      "Epoch  9 loss:  2.8157422e-06\n"
     ]
    },
    {
     "name": "stderr",
     "output_type": "stream",
     "text": [
      "  0%|                                                                                          | 0/349 [00:00<?, ?it/s]H:\\Github\\finbof\\lob_utils\\lob_model_utils.py:54: UserWarning: volatile was removed and now has no effect. Use `with torch.no_grad():` instead.\n",
      "  inputs, targets = Variable(inputs, volatile=True), Variable(targets)\n",
      "100%|████████████████████████████████████████████████████████████████████████████████| 349/349 [00:07<00:00, 45.60it/s]\n"
     ]
    },
    {
     "name": "stdout",
     "output_type": "stream",
     "text": [
      "{'accuracy': 0.5226437090843871, 'precision': array([0.13237436, 0.95515483, 0.13058861]), 'recall': array([0.57221566, 0.51201984, 0.63811395]), 'f1': array([0.21500924, 0.66666667, 0.21680796]), 'precision_avg': 0.40603927008280283, 'recall_avg': 0.5741164837016283, 'f1_avg': 0.3661612885186849, 'kappa': 0.13094636224783007}\n",
      "Evaluating for split:  6\n",
      "Epoch  0 loss:  2.9837067e-06\n",
      "Epoch  1 loss:  2.9305218e-06\n",
      "Epoch  2 loss:  3.1175423e-06\n",
      "Epoch  3 loss:  2.6289133e-06\n",
      "Epoch  4 loss:  2.6709013e-06\n",
      "Epoch  5 loss:  2.6737234e-06\n",
      "Epoch  6 loss:  2.7700034e-06\n",
      "Epoch  7 loss:  2.7175172e-06\n",
      "Epoch  8 loss:  2.5215934e-06\n",
      "Epoch  9 loss:  2.8853513e-06\n"
     ]
    },
    {
     "name": "stderr",
     "output_type": "stream",
     "text": [
      "  0%|                                                                                          | 0/465 [00:00<?, ?it/s]H:\\Github\\finbof\\lob_utils\\lob_model_utils.py:54: UserWarning: volatile was removed and now has no effect. Use `with torch.no_grad():` instead.\n",
      "  inputs, targets = Variable(inputs, volatile=True), Variable(targets)\n",
      "100%|████████████████████████████████████████████████████████████████████████████████| 465/465 [00:09<00:00, 49.88it/s]\n"
     ]
    },
    {
     "name": "stdout",
     "output_type": "stream",
     "text": [
      "{'accuracy': 0.6201452637950167, 'precision': array([0.13171559, 0.97152823, 0.09358506]), 'recall': array([0.5096351 , 0.62358252, 0.65857143]), 'f1': array([0.20932974, 0.75960622, 0.16388198]), 'precision_avg': 0.39894295905850513, 'recall_avg': 0.5972630145719877, 'f1_avg': 0.3776059781159902, 'kappa': 0.130948480593289}\n",
      "Evaluating for split:  7\n",
      "Epoch  0 loss:  2.3335012e-06\n",
      "Epoch  1 loss:  2.3232528e-06\n",
      "Epoch  2 loss:  2.440724e-06\n",
      "Epoch  3 loss:  2.4185103e-06\n",
      "Epoch  4 loss:  2.2912006e-06\n",
      "Epoch  5 loss:  2.3797481e-06\n",
      "Epoch  6 loss:  2.1201429e-06\n",
      "Epoch  7 loss:  2.4383328e-06\n",
      "Epoch  8 loss:  2.2742524e-06\n",
      "Epoch  9 loss:  2.4444178e-06\n"
     ]
    },
    {
     "name": "stderr",
     "output_type": "stream",
     "text": [
      "  0%|                                                                                          | 0/449 [00:00<?, ?it/s]H:\\Github\\finbof\\lob_utils\\lob_model_utils.py:54: UserWarning: volatile was removed and now has no effect. Use `with torch.no_grad():` instead.\n",
      "  inputs, targets = Variable(inputs, volatile=True), Variable(targets)\n",
      "100%|████████████████████████████████████████████████████████████████████████████████| 449/449 [00:08<00:00, 50.16it/s]\n"
     ]
    },
    {
     "name": "stdout",
     "output_type": "stream",
     "text": [
      "{'accuracy': 0.6208228905597326, 'precision': array([0.11958943, 0.96458754, 0.11204763]), 'recall': array([0.53301683, 0.62645523, 0.58333333]), 'f1': array([0.19534957, 0.75959103, 0.18798651]), 'precision_avg': 0.39874153215740343, 'recall_avg': 0.5809351309558726, 'f1_avg': 0.38097570295358935, 'kappa': 0.13344547202515844}\n",
      "Evaluating for split:  8\n",
      "Epoch  0 loss:  2.0929554e-06\n",
      "Epoch  1 loss:  2.299734e-06\n",
      "Epoch  2 loss:  1.7285919e-06\n",
      "Epoch  3 loss:  1.7404533e-06\n",
      "Epoch  4 loss:  1.7752285e-06\n",
      "Epoch  5 loss:  2.0069142e-06\n",
      "Epoch  6 loss:  2.1837484e-06\n",
      "Epoch  7 loss:  1.7776454e-06\n",
      "Epoch  8 loss:  1.787496e-06\n"
     ]
    }
   ],
   "source": [
    "model = lambda: exps.ML_LSTM_NN()\n",
    "exps.run_experiments(model, 'final2_MLLSTM.pickle', window=15)"
   ]
  },
  {
   "cell_type": "code",
   "execution_count": 2,
   "id": "ed5a6e71-7637-4fd3-8d86-f579c3462942",
   "metadata": {},
   "outputs": [
    {
     "data": {
      "text/html": [
       "<style type=\"text/css\">\n",
       "#T_0d42c_row0_col4, #T_0d42c_row2_col5, #T_0d42c_row3_col0, #T_0d42c_row3_col2, #T_0d42c_row3_col3, #T_0d42c_row5_col1 {\n",
       "  background-color: lightgreen;\n",
       "}\n",
       "#T_0d42c_row4_col7, #T_0d42c_row5_col6, #T_0d42c_row5_col8, #T_0d42c_row5_col9 {\n",
       "  background-color: yellow;\n",
       "}\n",
       "</style>\n",
       "<table id=\"T_0d42c\">\n",
       "  <thead>\n",
       "    <tr>\n",
       "      <th class=\"blank level0\" >&nbsp;</th>\n",
       "      <th id=\"T_0d42c_level0_col0\" class=\"col_heading level0 col0\" >acc_mean</th>\n",
       "      <th id=\"T_0d42c_level0_col1\" class=\"col_heading level0 col1\" >acc_std</th>\n",
       "      <th id=\"T_0d42c_level0_col2\" class=\"col_heading level0 col2\" >precision_mean</th>\n",
       "      <th id=\"T_0d42c_level0_col3\" class=\"col_heading level0 col3\" >precision_std</th>\n",
       "      <th id=\"T_0d42c_level0_col4\" class=\"col_heading level0 col4\" >recall_mean</th>\n",
       "      <th id=\"T_0d42c_level0_col5\" class=\"col_heading level0 col5\" >recall_std</th>\n",
       "      <th id=\"T_0d42c_level0_col6\" class=\"col_heading level0 col6\" >f1_mean</th>\n",
       "      <th id=\"T_0d42c_level0_col7\" class=\"col_heading level0 col7\" >f1_std</th>\n",
       "      <th id=\"T_0d42c_level0_col8\" class=\"col_heading level0 col8\" >kappa_mean</th>\n",
       "      <th id=\"T_0d42c_level0_col9\" class=\"col_heading level0 col9\" >kappa_std</th>\n",
       "    </tr>\n",
       "  </thead>\n",
       "  <tbody>\n",
       "    <tr>\n",
       "      <th id=\"T_0d42c_level0_row0\" class=\"row_heading level0 row0\" >final_cnn</th>\n",
       "      <td id=\"T_0d42c_row0_col0\" class=\"data row0 col0\" >0.742413</td>\n",
       "      <td id=\"T_0d42c_row0_col1\" class=\"data row0 col1\" >0.053759</td>\n",
       "      <td id=\"T_0d42c_row0_col2\" class=\"data row0 col2\" >0.444478</td>\n",
       "      <td id=\"T_0d42c_row0_col3\" class=\"data row0 col3\" >0.013877</td>\n",
       "      <td id=\"T_0d42c_row0_col4\" class=\"data row0 col4\" >0.583807</td>\n",
       "      <td id=\"T_0d42c_row0_col5\" class=\"data row0 col5\" >0.022834</td>\n",
       "      <td id=\"T_0d42c_row0_col6\" class=\"data row0 col6\" >0.467983</td>\n",
       "      <td id=\"T_0d42c_row0_col7\" class=\"data row0 col7\" >0.022141</td>\n",
       "      <td id=\"T_0d42c_row0_col8\" class=\"data row0 col8\" >0.215582</td>\n",
       "      <td id=\"T_0d42c_row0_col9\" class=\"data row0 col9\" >0.031462</td>\n",
       "    </tr>\n",
       "    <tr>\n",
       "      <th id=\"T_0d42c_level0_row1\" class=\"row_heading level0 row1\" >final_gru</th>\n",
       "      <td id=\"T_0d42c_row1_col0\" class=\"data row1 col0\" >0.813147</td>\n",
       "      <td id=\"T_0d42c_row1_col1\" class=\"data row1 col1\" >0.031602</td>\n",
       "      <td id=\"T_0d42c_row1_col2\" class=\"data row1 col2\" >0.477975</td>\n",
       "      <td id=\"T_0d42c_row1_col3\" class=\"data row1 col3\" >0.018165</td>\n",
       "      <td id=\"T_0d42c_row1_col4\" class=\"data row1 col4\" >0.564791</td>\n",
       "      <td id=\"T_0d42c_row1_col5\" class=\"data row1 col5\" >0.031053</td>\n",
       "      <td id=\"T_0d42c_row1_col6\" class=\"data row1 col6\" >0.505293</td>\n",
       "      <td id=\"T_0d42c_row1_col7\" class=\"data row1 col7\" >0.019583</td>\n",
       "      <td id=\"T_0d42c_row1_col8\" class=\"data row1 col8\" >0.255756</td>\n",
       "      <td id=\"T_0d42c_row1_col9\" class=\"data row1 col9\" >0.031818</td>\n",
       "    </tr>\n",
       "    <tr>\n",
       "      <th id=\"T_0d42c_level0_row2\" class=\"row_heading level0 row2\" >final_lstm</th>\n",
       "      <td id=\"T_0d42c_row2_col0\" class=\"data row2 col0\" >0.790352</td>\n",
       "      <td id=\"T_0d42c_row2_col1\" class=\"data row2 col1\" >0.032944</td>\n",
       "      <td id=\"T_0d42c_row2_col2\" class=\"data row2 col2\" >0.465026</td>\n",
       "      <td id=\"T_0d42c_row2_col3\" class=\"data row2 col3\" >0.016974</td>\n",
       "      <td id=\"T_0d42c_row2_col4\" class=\"data row2 col4\" >0.580555</td>\n",
       "      <td id=\"T_0d42c_row2_col5\" class=\"data row2 col5\" >0.033160</td>\n",
       "      <td id=\"T_0d42c_row2_col6\" class=\"data row2 col6\" >0.495645</td>\n",
       "      <td id=\"T_0d42c_row2_col7\" class=\"data row2 col7\" >0.021249</td>\n",
       "      <td id=\"T_0d42c_row2_col8\" class=\"data row2 col8\" >0.246293</td>\n",
       "      <td id=\"T_0d42c_row2_col9\" class=\"data row2 col9\" >0.032659</td>\n",
       "    </tr>\n",
       "    <tr>\n",
       "      <th id=\"T_0d42c_level0_row3\" class=\"row_heading level0 row3\" >final_bof</th>\n",
       "      <td id=\"T_0d42c_row3_col0\" class=\"data row3 col0\" >0.823887</td>\n",
       "      <td id=\"T_0d42c_row3_col1\" class=\"data row3 col1\" >0.031765</td>\n",
       "      <td id=\"T_0d42c_row3_col2\" class=\"data row3 col2\" >0.493379</td>\n",
       "      <td id=\"T_0d42c_row3_col3\" class=\"data row3 col3\" >0.018278</td>\n",
       "      <td id=\"T_0d42c_row3_col4\" class=\"data row3 col4\" >0.577210</td>\n",
       "      <td id=\"T_0d42c_row3_col5\" class=\"data row3 col5\" >0.019557</td>\n",
       "      <td id=\"T_0d42c_row3_col6\" class=\"data row3 col6\" >0.521982</td>\n",
       "      <td id=\"T_0d42c_row3_col7\" class=\"data row3 col7\" >0.018260</td>\n",
       "      <td id=\"T_0d42c_row3_col8\" class=\"data row3 col8\" >0.277757</td>\n",
       "      <td id=\"T_0d42c_row3_col9\" class=\"data row3 col9\" >0.028163</td>\n",
       "    </tr>\n",
       "    <tr>\n",
       "      <th id=\"T_0d42c_level0_row4\" class=\"row_heading level0 row4\" >final_MLLSTM</th>\n",
       "      <td id=\"T_0d42c_row4_col0\" class=\"data row4 col0\" >0.562948</td>\n",
       "      <td id=\"T_0d42c_row4_col1\" class=\"data row4 col1\" >0.054201</td>\n",
       "      <td id=\"T_0d42c_row4_col2\" class=\"data row4 col2\" >0.401642</td>\n",
       "      <td id=\"T_0d42c_row4_col3\" class=\"data row4 col3\" >0.007782</td>\n",
       "      <td id=\"T_0d42c_row4_col4\" class=\"data row4 col4\" >0.562626</td>\n",
       "      <td id=\"T_0d42c_row4_col5\" class=\"data row4 col5\" >0.024292</td>\n",
       "      <td id=\"T_0d42c_row4_col6\" class=\"data row4 col6\" >0.371062</td>\n",
       "      <td id=\"T_0d42c_row4_col7\" class=\"data row4 col7\" >0.017959</td>\n",
       "      <td id=\"T_0d42c_row4_col8\" class=\"data row4 col8\" >0.129304</td>\n",
       "      <td id=\"T_0d42c_row4_col9\" class=\"data row4 col9\" >0.016986</td>\n",
       "    </tr>\n",
       "    <tr>\n",
       "      <th id=\"T_0d42c_level0_row5\" class=\"row_heading level0 row5\" >final2_MLLSTM</th>\n",
       "      <td id=\"T_0d42c_row5_col0\" class=\"data row5 col0\" >0.557140</td>\n",
       "      <td id=\"T_0d42c_row5_col1\" class=\"data row5 col1\" >0.065961</td>\n",
       "      <td id=\"T_0d42c_row5_col2\" class=\"data row5 col2\" >0.400274</td>\n",
       "      <td id=\"T_0d42c_row5_col3\" class=\"data row5 col3\" >0.007097</td>\n",
       "      <td id=\"T_0d42c_row5_col4\" class=\"data row5 col4\" >0.558962</td>\n",
       "      <td id=\"T_0d42c_row5_col5\" class=\"data row5 col5\" >0.026111</td>\n",
       "      <td id=\"T_0d42c_row5_col6\" class=\"data row5 col6\" >0.367116</td>\n",
       "      <td id=\"T_0d42c_row5_col7\" class=\"data row5 col7\" >0.018914</td>\n",
       "      <td id=\"T_0d42c_row5_col8\" class=\"data row5 col8\" >0.126215</td>\n",
       "      <td id=\"T_0d42c_row5_col9\" class=\"data row5 col9\" >0.016742</td>\n",
       "    </tr>\n",
       "  </tbody>\n",
       "</table>\n"
      ],
      "text/plain": [
       "<pandas.io.formats.style.Styler at 0x204eaa1c350>"
      ]
     },
     "execution_count": 2,
     "metadata": {},
     "output_type": "execute_result"
    }
   ],
   "source": [
    "p.print_results_df()"
   ]
  },
  {
   "cell_type": "code",
   "execution_count": null,
   "id": "b5056430-eb9c-4f09-9d91-7cf304031cb1",
   "metadata": {},
   "outputs": [],
   "source": []
  }
 ],
 "metadata": {
  "kernelspec": {
   "display_name": "Python 3 (ipykernel)",
   "language": "python",
   "name": "python3"
  },
  "language_info": {
   "codemirror_mode": {
    "name": "ipython",
    "version": 3
   },
   "file_extension": ".py",
   "mimetype": "text/x-python",
   "name": "python",
   "nbconvert_exporter": "python",
   "pygments_lexer": "ipython3",
   "version": "3.11.1"
  }
 },
 "nbformat": 4,
 "nbformat_minor": 5
}
